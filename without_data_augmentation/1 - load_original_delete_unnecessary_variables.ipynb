{
 "cells": [
  {
   "cell_type": "markdown",
   "metadata": {},
   "source": [
    "# Script: Filtrado del Dataset por Variables de Interés\n",
    "<h3><span style=\"color:blue\">Fase 1: Exploración del conjunto de datos</span></h3>\n",
    "<h4><span style=\"color:blue\">Juan José Hoyos Urcué</span></h4>"
   ]
  },
  {
   "cell_type": "markdown",
   "metadata": {},
   "source": [
    "## Carga de Datos"
   ]
  },
  {
   "cell_type": "code",
   "execution_count": 1,
   "metadata": {},
   "outputs": [],
   "source": [
    "import pandas as pd\n",
    "\n",
    "file_name = \"20210603_EXP_ESPECIAL_TMRC3_VERSION_2.xlsx\"\n",
    "data = pd.read_excel(file_name)"
   ]
  },
  {
   "cell_type": "markdown",
   "metadata": {},
   "source": [
    "## Lectura de Variables a Borrar"
   ]
  },
  {
   "cell_type": "code",
   "execution_count": 2,
   "metadata": {},
   "outputs": [],
   "source": [
    "\"\"\"\n",
    "Se leen de un archivo de texto los nombres de las variables\n",
    "que se desean borrar y se cargan en la lista to_erase\n",
    "\"\"\"\n",
    "\n",
    "f = open(\"names_to_delete.txt\",\"r\")\n",
    "\n",
    "to_erase = list()\n",
    "\n",
    "for line in f:\n",
    "        to_erase.append(line.strip())\n",
    "f.close()"
   ]
  },
  {
   "cell_type": "markdown",
   "metadata": {},
   "source": [
    "## Borrado de Variables\n",
    "### Descartadas manualmente"
   ]
  },
  {
   "cell_type": "code",
   "execution_count": 3,
   "metadata": {},
   "outputs": [],
   "source": [
    "# Se borran las columnas leidas del archivo\n",
    "\n",
    "for variable in to_erase:\n",
    "    del data[variable]"
   ]
  },
  {
   "cell_type": "markdown",
   "metadata": {},
   "source": [
    "### Descartados por único valor"
   ]
  },
  {
   "cell_type": "code",
   "execution_count": 4,
   "metadata": {},
   "outputs": [
    {
     "name": "stdout",
     "output_type": "stream",
     "text": [
      "eb_lc_dx_previo borrado\n"
     ]
    }
   ],
   "source": [
    "# Se borran las columnas que tengan unico valor, ya que no aportan nada al análisis\n",
    "\n",
    "for elem in data.columns:\n",
    "    if len(data[elem].value_counts()) == 1:\n",
    "        print(elem, \"borrado\")\n",
    "        del data[elem]"
   ]
  },
  {
   "cell_type": "markdown",
   "metadata": {},
   "source": [
    "## Guardado "
   ]
  },
  {
   "cell_type": "code",
   "execution_count": 6,
   "metadata": {},
   "outputs": [],
   "source": [
    "data.to_excel(\"cleaned.xlsx\", index = False)"
   ]
  }
 ],
 "metadata": {
  "kernelspec": {
   "display_name": "Python 3",
   "language": "python",
   "name": "python3"
  },
  "language_info": {
   "codemirror_mode": {
    "name": "ipython",
    "version": 3
   },
   "file_extension": ".py",
   "mimetype": "text/x-python",
   "name": "python",
   "nbconvert_exporter": "python",
   "pygments_lexer": "ipython3",
   "version": "3.8.8"
  }
 },
 "nbformat": 4,
 "nbformat_minor": 4
}

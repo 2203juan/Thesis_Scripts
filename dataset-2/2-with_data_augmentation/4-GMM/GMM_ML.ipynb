{
 "cells": [
  {
   "cell_type": "markdown",
   "metadata": {},
   "source": [
    "# Script: GMM_ML\n",
    "<h4><span style=\"color:blue\">Juan José Hoyos Urcué</span></h4>"
   ]
  },
  {
   "cell_type": "markdown",
   "metadata": {},
   "source": [
    "### Dataset and Python libraries Upload"
   ]
  },
  {
   "cell_type": "code",
   "execution_count": 1,
   "metadata": {},
   "outputs": [],
   "source": [
    "import numpy as np\n",
    "import pandas as pd\n",
    "import sklearn as sk\n",
    "import seaborn as sns\n",
    "import matplotlib.pyplot as plt\n",
    "import random\n",
    "from sklearn.preprocessing import MinMaxScaler\n",
    "\n",
    "fake_name = \"fake_gmm.xlsx\"\n",
    "fake = pd.read_excel(fake_name)\n",
    "\n",
    "original = pd.read_excel(\"../../without_data_augmentation/preprocesado.xlsx\")"
   ]
  },
  {
   "cell_type": "markdown",
   "metadata": {},
   "source": [
    "### Synthetic dataset shape"
   ]
  },
  {
   "cell_type": "code",
   "execution_count": 2,
   "metadata": {},
   "outputs": [
    {
     "name": "stdout",
     "output_type": "stream",
     "text": [
      "Fake generated dataset has 30 rows and 10 columns.\n"
     ]
    }
   ],
   "source": [
    "rows,cols = fake.shape\n",
    "print(\"Fake generated dataset has {} rows and {} columns.\".format(rows,cols))"
   ]
  },
  {
   "cell_type": "markdown",
   "metadata": {},
   "source": [
    "### Synthetic Dataset - Target Variable Distribution"
   ]
  },
  {
   "cell_type": "code",
   "execution_count": 3,
   "metadata": {},
   "outputs": [
    {
     "data": {
      "text/plain": [
       "0    16\n",
       "1    14\n",
       "Name: cure_or_fail, dtype: int64"
      ]
     },
     "execution_count": 3,
     "metadata": {},
     "output_type": "execute_result"
    }
   ],
   "source": [
    "fake[\"cure_or_fail\"].value_counts()\n",
    "# 0 ure\n",
    "# 1 fail"
   ]
  },
  {
   "cell_type": "code",
   "execution_count": 4,
   "metadata": {},
   "outputs": [],
   "source": [
    "y_train = fake[\"cure_or_fail\"]\n",
    "X_train = fake.drop('cure_or_fail', 1)\n",
    "\n",
    "y_test = original[\"cure_or_fail\"]\n",
    "X_test = original.drop('cure_or_fail', 1)"
   ]
  },
  {
   "cell_type": "code",
   "execution_count": 5,
   "metadata": {},
   "outputs": [],
   "source": [
    "# Machine Learning Libraries\n",
    "\n",
    "from sklearn.linear_model import LogisticRegression\n",
    "from sklearn.neighbors import KNeighborsClassifier\n",
    "from sklearn.ensemble import RandomForestClassifier\n",
    "from sklearn.neural_network import MLPClassifier\n",
    "from sklearn.svm import SVC\n",
    "\n",
    "# Evaluation libraries\n",
    "\n",
    "from sklearn import metrics\n",
    "from sklearn.metrics import confusion_matrix \n",
    "from sklearn.metrics import precision_score\n",
    "from sklearn.metrics import recall_score\n",
    "from sklearn.metrics import f1_score\n",
    "from sklearn.metrics import roc_curve\n",
    "from sklearn.metrics import roc_auc_score"
   ]
  },
  {
   "cell_type": "code",
   "execution_count": 6,
   "metadata": {},
   "outputs": [],
   "source": [
    "\n",
    "metricas = list()\n",
    "\n",
    "def build_model(model, X_train, y_train, X_test, y_test):\n",
    "    clf = model\n",
    "    clf.fit(X_train, y_train)\n",
    "    clf_pred = clf.predict(X_test)\n",
    "    \n",
    "\n",
    "    tmp = list()\n",
    "    precision = precision_score(y_test,clf_pred)\n",
    "    recall = recall_score(y_test,clf_pred)\n",
    "    fscore = f1_score(y_test,clf_pred)\n",
    "\n",
    "    tmp.append(str(type(model).__name__))\n",
    "    tmp.append(precision)\n",
    "    tmp.append(recall)\n",
    "    tmp.append(fscore)\n",
    "    metricas.append(tmp)\n",
    "    \n",
    "    print(\"Precision: \",precision)\n",
    "    print(\"Recall:    \",recall)\n",
    "    print(\"F1score:   \",fscore)\n",
    "    \n",
    "    return clf_pred,clf"
   ]
  },
  {
   "cell_type": "markdown",
   "metadata": {},
   "source": [
    "### Logistic Regression"
   ]
  },
  {
   "cell_type": "code",
   "execution_count": 7,
   "metadata": {},
   "outputs": [
    {
     "name": "stdout",
     "output_type": "stream",
     "text": [
      "Precision:  0.5\n",
      "Recall:     0.5714285714285714\n",
      "F1score:    0.5333333333333333\n"
     ]
    }
   ],
   "source": [
    "log_reg = LogisticRegression(C = 5, fit_intercept = True, max_iter = 50, penalty = 'l1',\n",
    "                             solver = 'liblinear', tol = 0.001)\n",
    "log_reg_pred = build_model(log_reg, X_train, y_train, X_test, y_test)"
   ]
  },
  {
   "cell_type": "markdown",
   "metadata": {},
   "source": [
    "### k-nearest neighbors (k=5)"
   ]
  },
  {
   "cell_type": "code",
   "execution_count": 8,
   "metadata": {},
   "outputs": [
    {
     "name": "stdout",
     "output_type": "stream",
     "text": [
      "Precision:  0.5\n",
      "Recall:     0.5714285714285714\n",
      "F1score:    0.5333333333333333\n"
     ]
    }
   ],
   "source": [
    "knn = KNeighborsClassifier(algorithm = 'ball_tree', n_neighbors = 2, weights = 'distance')\n",
    "knn_pred = build_model(knn, X_train, y_train, X_test, y_test)"
   ]
  },
  {
   "cell_type": "markdown",
   "metadata": {},
   "source": [
    "### Random Forest"
   ]
  },
  {
   "cell_type": "code",
   "execution_count": 9,
   "metadata": {},
   "outputs": [
    {
     "name": "stdout",
     "output_type": "stream",
     "text": [
      "Precision:  0.375\n",
      "Recall:     0.42857142857142855\n",
      "F1score:    0.39999999999999997\n"
     ]
    }
   ],
   "source": [
    "rf = RandomForestClassifier(criterion = 'gini', max_depth = 31, max_features = 'sqrt', \n",
    "                            max_leaf_nodes = 11, min_samples_leaf = 3, \n",
    "                            min_samples_split = 6)\n",
    "\n",
    "rf_pred = build_model(rf, X_train, y_train, X_test, y_test)"
   ]
  },
  {
   "cell_type": "markdown",
   "metadata": {},
   "source": [
    "### SVM (Support Vector Machines)"
   ]
  },
  {
   "cell_type": "code",
   "execution_count": 10,
   "metadata": {},
   "outputs": [
    {
     "name": "stdout",
     "output_type": "stream",
     "text": [
      "Precision:  0.42857142857142855\n",
      "Recall:     0.42857142857142855\n",
      "F1score:    0.42857142857142855\n"
     ]
    }
   ],
   "source": [
    "svm = SVC(C = 10, gamma = 0.001, kernel = 'linear')\n",
    "svm_pred = build_model(svm, X_train, y_train, X_test, y_test)"
   ]
  },
  {
   "cell_type": "markdown",
   "metadata": {},
   "source": [
    "### MLP (Multilayer Perceptron)"
   ]
  },
  {
   "cell_type": "code",
   "execution_count": 11,
   "metadata": {},
   "outputs": [
    {
     "name": "stdout",
     "output_type": "stream",
     "text": [
      "Precision:  0.42857142857142855\n",
      "Recall:     0.42857142857142855\n",
      "F1score:    0.42857142857142855\n"
     ]
    }
   ],
   "source": [
    "mlp = MLPClassifier(activation = 'tanh', alpha = 0.0001, \n",
    "                     hidden_layer_sizes = (9, 9, 9), \n",
    "                     learning_rate = 'constant', solver = 'adam',max_iter = 500)\n",
    "\n",
    "mlp_pred = build_model(mlp, X_train, y_train, X_test, y_test)"
   ]
  },
  {
   "cell_type": "markdown",
   "metadata": {},
   "source": [
    "### Save Results"
   ]
  },
  {
   "cell_type": "code",
   "execution_count": 12,
   "metadata": {},
   "outputs": [],
   "source": [
    "result_table = pd.DataFrame(columns = ['Model', 'Precision','Recall','F1Score'])\n",
    "\n",
    "for i in range(len(metricas)):\n",
    "    result_table = result_table.append({'Model':metricas[i][0],\n",
    "                                        'Precision':metricas[i][1], \n",
    "                                        'Recall':metricas[i][2], \n",
    "                                        'F1Score':metricas[i][3]}, ignore_index = True)\n",
    "    \n",
    "result_table.to_excel(\"../results/fake_gmm.xlsx\", index = False)"
   ]
  }
 ],
 "metadata": {
  "kernelspec": {
   "display_name": "Python 3",
   "language": "python",
   "name": "python3"
  },
  "language_info": {
   "codemirror_mode": {
    "name": "ipython",
    "version": 3
   },
   "file_extension": ".py",
   "mimetype": "text/x-python",
   "name": "python",
   "nbconvert_exporter": "python",
   "pygments_lexer": "ipython3",
   "version": "3.8.8"
  }
 },
 "nbformat": 4,
 "nbformat_minor": 4
}

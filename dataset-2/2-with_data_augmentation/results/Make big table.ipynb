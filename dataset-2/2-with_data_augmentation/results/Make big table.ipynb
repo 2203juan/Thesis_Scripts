{
 "cells": [
  {
   "cell_type": "code",
   "execution_count": 1,
   "metadata": {},
   "outputs": [],
   "source": [
    "import pandas as pd\n",
    "adasyn = pd.read_excel(\"adasyn.xlsx\")\n",
    "smote = pd.read_excel(\"smote.xlsx\")\n",
    "border_smote = pd.read_excel(\"border_smote.xlsx\")\n",
    "gmm = pd.read_excel(\"fake_gmm.xlsx\")\n",
    "genetic = pd.read_excel(\"genetic.xlsx\")\n",
    "gan = pd.read_excel(\"gan.xlsx\")"
   ]
  },
  {
   "cell_type": "code",
   "execution_count": 2,
   "metadata": {},
   "outputs": [],
   "source": [
    "dfs = {\"ADASYN\": adasyn, \"SMOTE\":smote, \"Borderline SMOTE\":border_smote, \" Gaussian Mixture Model\":gmm,\n",
    "       \"Genetic Algorithm\":genetic, \"Generative Adversarial Network\":gan}"
   ]
  },
  {
   "cell_type": "code",
   "execution_count": 3,
   "metadata": {},
   "outputs": [
    {
     "name": "stdout",
     "output_type": "stream",
     "text": [
      "\\noalign{\\smallskip}\\noalign{\\smallskip} \n",
      "\\textbf{ADASYN} & & & \\\\\n",
      "\\hline KNeighborsClassifier &0.93 &0.98 & \\textbf{0.96} \\\\\n",
      "\\hline RandomForestClassifier &0.81 &0.83 &0.82 \\\\\n",
      "\\hline MLPClassifier &0.49 &0.78 &0.6 \\\\\n",
      "\\hline LogisticRegression &0.36 &0.62 &0.46 \\\\\n",
      "\\hline SVC &0.29 &0.55 &0.38 \\\\\n",
      "\n",
      "\\noalign{\\smallskip}\\noalign{\\smallskip} \n",
      "\\textbf{SMOTE} & & & \\\\\n",
      "\\hline KNeighborsClassifier &0.86 &0.98 & \\textbf{0.92} \\\\\n",
      "\\hline RandomForestClassifier &0.73 &0.91 &0.81 \\\\\n",
      "\\hline MLPClassifier &0.69 &0.91 &0.79 \\\\\n",
      "\\hline SVC &0.4 &0.72 &0.52 \\\\\n",
      "\\hline LogisticRegression &0.38 &0.6 &0.46 \\\\\n",
      "\n",
      "\\noalign{\\smallskip}\\noalign{\\smallskip} \n",
      "\\textbf{Borderline SMOTE} & & & \\\\\n",
      "\\hline KNeighborsClassifier &0.81 &0.95 & \\textbf{0.87} \\\\\n",
      "\\hline RandomForestClassifier &0.75 &0.78 &0.76 \\\\\n",
      "\\hline MLPClassifier &0.51 &0.83 &0.63 \\\\\n",
      "\\hline LogisticRegression &0.33 &0.71 &0.45 \\\\\n",
      "\\hline SVC &0.3 &0.88 &0.45 \\\\\n",
      "\n",
      "\\noalign{\\smallskip}\\noalign{\\smallskip} \n",
      "\\textbf{ Gaussian Mixture Model} & & & \\\\\n",
      "\\hline LogisticRegression &0.18 &0.57 & \\textbf{0.28} \\\\\n",
      "\\hline KNeighborsClassifier &0.18 &0.57 &0.28 \\\\\n",
      "\\hline RandomForestClassifier &0.18 &0.57 &0.28 \\\\\n",
      "\\hline SVC &0.18 &0.57 &0.28 \\\\\n",
      "\\hline MLPClassifier &0.18 &0.57 &0.28 \\\\\n",
      "\n",
      "\\noalign{\\smallskip}\\noalign{\\smallskip} \n",
      "\\textbf{Genetic Algorithm} & & & \\\\\n",
      "\\hline RandomForestClassifier &0.33 &0.71 & \\textbf{0.45} \\\\\n",
      "\\hline KNeighborsClassifier &0.32 &0.72 &0.44 \\\\\n",
      "\\hline MLPClassifier &0.26 &0.84 &0.4 \\\\\n",
      "\\hline SVC &0.27 &0.72 &0.39 \\\\\n",
      "\\hline LogisticRegression &0.26 &0.83 &0.39 \\\\\n",
      "\n",
      "\\noalign{\\smallskip}\\noalign{\\smallskip} \n",
      "\\textbf{Generative Adversarial Network} & & & \\\\\n",
      "\\hline KNeighborsClassifier &0.39 &0.52 & \\textbf{0.45} \\\\\n",
      "\\hline LogisticRegression &0.33 &0.64 &0.44 \\\\\n",
      "\\hline MLPClassifier &0.33 &0.55 &0.41 \\\\\n",
      "\\hline SVC &0.31 &0.55 &0.4 \\\\\n",
      "\\hline RandomForestClassifier &0.31 &0.48 &0.38 \\\\\n",
      "\n"
     ]
    }
   ],
   "source": [
    "for key in dfs.keys():\n",
    "    dfs[key] = dfs[key].sort_values(by=\"F1Score\", ascending = False)\n",
    "    \n",
    "f = open(\"big_table.txt\",\"w\")\n",
    "\n",
    "for model in dfs.keys():\n",
    "    s = \"\"\n",
    "    s+=\"\\\\noalign{\\smallskip}\\\\noalign{\\smallskip} \\n\"\n",
    "    s = s+ \"\\\\textbf{\"+model+\"} & & & \\\\\\\\\\n\"\n",
    "    #print(model)\n",
    "    i = 0\n",
    "    for line in dfs[model].iterrows():\n",
    "        if i !=0:\n",
    "            data = list(line[1].values)\n",
    "            s+=\"\\\\hline \"\n",
    "            s+=data[0]+\" \" #name\n",
    "            s+=\"&\"\n",
    "            s+=str(round(data[1],2))\n",
    "            s+=\" &\"\n",
    "            s+=str(round(data[2],2))\n",
    "            s+=\" &\"\n",
    "            s+=str(round(data[3],2))\n",
    "            s+=\" \\\\\\\\\\n\"\n",
    "        else:\n",
    "            data = list(line[1].values)\n",
    "            s+=\"\\\\hline \"\n",
    "            s+=data[0]+\" \" #name\n",
    "            s+=\"&\"\n",
    "            s+=str(round(data[1],2))\n",
    "            s+=\" &\"\n",
    "            s+=str(round(data[2],2))\n",
    "            s+=\" &\"\n",
    "            s+=\" \\\\textbf{\"+str(round(data[3],2))\n",
    "            s+=\"} \\\\\\\\\\n\"\n",
    "        i+=1\n",
    "    #s+=\"\\\\noalign{\\smallskip}\\\\noalign{\\smallskip} \\n\"\n",
    "    print(s)"
   ]
  }
 ],
 "metadata": {
  "kernelspec": {
   "display_name": "Python 3",
   "language": "python",
   "name": "python3"
  },
  "language_info": {
   "codemirror_mode": {
    "name": "ipython",
    "version": 3
   },
   "file_extension": ".py",
   "mimetype": "text/x-python",
   "name": "python",
   "nbconvert_exporter": "python",
   "pygments_lexer": "ipython3",
   "version": "3.8.8"
  }
 },
 "nbformat": 4,
 "nbformat_minor": 4
}

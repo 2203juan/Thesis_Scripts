{
 "cells": [
  {
   "cell_type": "code",
   "execution_count": 1,
   "id": "b83a399e",
   "metadata": {},
   "outputs": [],
   "source": [
    "import pandas as pd"
   ]
  },
  {
   "cell_type": "code",
   "execution_count": 2,
   "id": "1e360fe6",
   "metadata": {},
   "outputs": [],
   "source": [
    "adasyn = pd.read_excel(\"adasyn.xlsx\")\n",
    "smote = pd.read_excel(\"smote.xlsx\")\n",
    "border_smote = pd.read_excel(\"border_smote.xlsx\")\n",
    "gmm = pd.read_excel(\"fake_gmm.xlsx\")\n",
    "genetic = pd.read_excel(\"genetic.xlsx\")\n",
    "gan = pd.read_excel(\"gan.xlsx\")"
   ]
  },
  {
   "cell_type": "code",
   "execution_count": 3,
   "id": "646b918b",
   "metadata": {},
   "outputs": [],
   "source": [
    "dfs = {\"ADASYN\": adasyn, \"SMOTE\":smote, \"Borderline SMOTE\":border_smote, \" Gaussian Mixture Model\":gmm,\n",
    "       \"Genetic Algorithm\":genetic, \"Generative Adversarial Network\":gan}"
   ]
  },
  {
   "cell_type": "code",
   "execution_count": 4,
   "id": "198ea66c",
   "metadata": {},
   "outputs": [],
   "source": [
    "def comp_table():\n",
    "    ans = pd.DataFrame()\n",
    "    for c in dfs.keys():\n",
    "        df = dfs[c]\n",
    "        df[\"Model\"] = c + \" - \" +df[\"Model\"]\n",
    "        df[\"Precision\"] = round(df[\"Precision\"],2)\n",
    "        df[\"Recall\"] = round(df[\"Recall\"],2)\n",
    "        df[\"F1Score\"] = round(df[\"F1Score\"],2)\n",
    "        #df = df.sort_values(by=\"F1Score\", ascending = False)\n",
    "        ans = ans.append(df,ignore_index=True)\n",
    "    return ans.sort_values(by=\"F1Score\", ascending = False)"
   ]
  },
  {
   "cell_type": "code",
   "execution_count": 5,
   "id": "a629374e",
   "metadata": {},
   "outputs": [],
   "source": [
    "dfd = comp_table()\n",
    "dfd.columns = [\"Machine Learning - Data Augmentation Model\",\"Precision\",\"Recall\",\"F1-Score\"]\n",
    "\n",
    "dfd.to_excel(\"ranking.xlsx\",index = False)"
   ]
  }
 ],
 "metadata": {
  "kernelspec": {
   "display_name": "Python 3",
   "language": "python",
   "name": "python3"
  },
  "language_info": {
   "codemirror_mode": {
    "name": "ipython",
    "version": 3
   },
   "file_extension": ".py",
   "mimetype": "text/x-python",
   "name": "python",
   "nbconvert_exporter": "python",
   "pygments_lexer": "ipython3",
   "version": "3.8.8"
  }
 },
 "nbformat": 4,
 "nbformat_minor": 5
}

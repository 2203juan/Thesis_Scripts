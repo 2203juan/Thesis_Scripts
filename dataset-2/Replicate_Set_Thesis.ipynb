{
 "cells": [
  {
   "cell_type": "markdown",
   "id": "1098b3db",
   "metadata": {},
   "source": [
    "# Script: Replicate_Set_Thesis\n",
    "<h4><span style=\"color:blue\">Juan José Hoyos Urcué</span></h4>"
   ]
  },
  {
   "cell_type": "markdown",
   "id": "9a9bc29b",
   "metadata": {},
   "source": [
    "## Data Upload"
   ]
  },
  {
   "cell_type": "code",
   "execution_count": 1,
   "id": "09125fa2",
   "metadata": {},
   "outputs": [],
   "source": [
    "import pandas as pd\n",
    "import math\n",
    "\n",
    "df = pd.read_excel(\"new_data.xlsx\") # load new dataset"
   ]
  },
  {
   "cell_type": "markdown",
   "id": "6303aa9e",
   "metadata": {},
   "source": [
    "### Replicate Variables from experiment-1"
   ]
  },
  {
   "cell_type": "code",
   "execution_count": 2,
   "id": "c3758c53",
   "metadata": {},
   "outputs": [],
   "source": [
    "pred_data = [\"sex\", \"etnia\", \"age\", \"timeevollesion\", \"weigth\", \"heigth\",\n",
    "             \"Tabla1.numberoflesions\", \"treatmentprescrip\", \"treatmentdose\",\n",
    "             \"treatmentoutcome\", \"departamentoinfection\", \"lesionhorizon\",\n",
    "             \"ulcerahorizon\", \"lesionvertical\", \"ulceravertical\"]\n",
    "\n",
    "df = df[pred_data] # get same variables as the dataset-1 experiment (those are in other terminology)"
   ]
  },
  {
   "cell_type": "markdown",
   "id": "c79e5729",
   "metadata": {},
   "source": [
    "### Calculate injury-ulcer area"
   ]
  },
  {
   "cell_type": "code",
   "execution_count": 3,
   "id": "4835013c",
   "metadata": {},
   "outputs": [],
   "source": [
    "\"\"\"\n",
    "In dataset-2 we don't have area calculated but we have the \n",
    "measurements of the major axis and minor axis from the ellipse\n",
    "\n",
    "This function help us calculating the ellipse area (injury area)\n",
    "\"\"\"\n",
    "def area_elipse(A,B):\n",
    "    a = A/2 # we need major axis over 2\n",
    "    b = B/2 # we need minor axis over 2\n",
    "    \n",
    "    return math.pi*a*b"
   ]
  },
  {
   "cell_type": "code",
   "execution_count": 4,
   "id": "ab77df75",
   "metadata": {},
   "outputs": [],
   "source": [
    "df[\"lesion_area\"] = area_elipse(df[\"lesionvertical\"],df[\"lesionhorizon\"]) # injury\n",
    "df[\"ulcera_area\"] = area_elipse(df[\"ulceravertical\"],df[\"ulcerahorizon\"]) # ulcer"
   ]
  },
  {
   "cell_type": "markdown",
   "id": "d353e863",
   "metadata": {},
   "source": [
    "### Rename Variables"
   ]
  },
  {
   "cell_type": "code",
   "execution_count": 5,
   "id": "dc07971e",
   "metadata": {},
   "outputs": [],
   "source": [
    "# as new dataset use another terminology for the same variables, lets use\n",
    "# the same terminology as dataset-1\n",
    "\n",
    "english = [\"gender\",\"ethnicity\",\"age\",\"evolution_time\",\"weight\",\"height\",\n",
    "            \"number_active_injuries\",\"prescribed_medication\",\"glucantime_dosage\",\"cure_or_fail\",\n",
    "            \"infection_department\",\"injury_horizontal\",\"ulcer_horizontal\", \"injury_vertical\",\"ulcer_vertical\",\n",
    "            \"injury_area\",\"ulcer_area\"]"
   ]
  },
  {
   "cell_type": "code",
   "execution_count": 6,
   "id": "e5c5ff9c",
   "metadata": {},
   "outputs": [],
   "source": [
    "df.columns = english"
   ]
  },
  {
   "cell_type": "markdown",
   "id": "89b456e3",
   "metadata": {},
   "source": [
    "### Save Dataset"
   ]
  },
  {
   "cell_type": "code",
   "execution_count": 7,
   "id": "bbdb5f68",
   "metadata": {},
   "outputs": [],
   "source": [
    "df.to_excel(\"new_data_renamed.xlsx\", index = False)"
   ]
  }
 ],
 "metadata": {
  "kernelspec": {
   "display_name": "Python 3",
   "language": "python",
   "name": "python3"
  },
  "language_info": {
   "codemirror_mode": {
    "name": "ipython",
    "version": 3
   },
   "file_extension": ".py",
   "mimetype": "text/x-python",
   "name": "python",
   "nbconvert_exporter": "python",
   "pygments_lexer": "ipython3",
   "version": "3.8.8"
  }
 },
 "nbformat": 4,
 "nbformat_minor": 5
}

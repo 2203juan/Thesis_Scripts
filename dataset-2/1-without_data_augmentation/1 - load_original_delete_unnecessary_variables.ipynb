{
 "cells": [
  {
   "cell_type": "markdown",
   "metadata": {},
   "source": [
    "# Script: 1 - load_original_delete_unnecessary_variables\n",
    "<h4><span style=\"color:blue\">Juan José Hoyos Urcué</span></h4>"
   ]
  },
  {
   "cell_type": "markdown",
   "metadata": {},
   "source": [
    "## Data Upload"
   ]
  },
  {
   "cell_type": "code",
   "execution_count": 1,
   "metadata": {},
   "outputs": [],
   "source": [
    "import pandas as pd\n",
    "file_name = \"20210603_EXP_ESPECIAL_TMRC3_VERSION_2.xlsx\"\n",
    "data = pd.read_excel(file_name)"
   ]
  },
  {
   "cell_type": "markdown",
   "metadata": {},
   "source": [
    "## Read and Load variables to delete"
   ]
  },
  {
   "cell_type": "code",
   "execution_count": 2,
   "metadata": {},
   "outputs": [],
   "source": [
    "f = open(\"names_to_delete.txt\",\"r\")\n",
    "\n",
    "to_erase = list()\n",
    "\n",
    "for line in f:\n",
    "        to_erase.append(line.strip())\n",
    "f.close()"
   ]
  },
  {
   "cell_type": "markdown",
   "metadata": {},
   "source": [
    "## Varibles Delete Process"
   ]
  },
  {
   "cell_type": "code",
   "execution_count": 3,
   "metadata": {},
   "outputs": [],
   "source": [
    "# Variables read from the txt file are deleted\n",
    "\n",
    "for variable in to_erase:\n",
    "    del data[variable]"
   ]
  },
  {
   "cell_type": "markdown",
   "metadata": {},
   "source": [
    "## Delete Useless Variables "
   ]
  },
  {
   "cell_type": "code",
   "execution_count": 4,
   "metadata": {},
   "outputs": [
    {
     "name": "stdout",
     "output_type": "stream",
     "text": [
      "eb_lc_dx_previo borrado\n"
     ]
    }
   ],
   "source": [
    "# variables with the same value for each patient are deleted and shown\n",
    "\n",
    "for elem in data.columns:\n",
    "    if len(data[elem].value_counts()) == 1:\n",
    "        print(elem, \"borrado\")\n",
    "        del data[elem]"
   ]
  },
  {
   "cell_type": "markdown",
   "metadata": {},
   "source": [
    "## Save DataSet"
   ]
  },
  {
   "cell_type": "code",
   "execution_count": 5,
   "metadata": {},
   "outputs": [],
   "source": [
    "data.to_excel(\"cleaned.xlsx\", index = False)"
   ]
  }
 ],
 "metadata": {
  "kernelspec": {
   "display_name": "Python 3",
   "language": "python",
   "name": "python3"
  },
  "language_info": {
   "codemirror_mode": {
    "name": "ipython",
    "version": 3
   },
   "file_extension": ".py",
   "mimetype": "text/x-python",
   "name": "python",
   "nbconvert_exporter": "python",
   "pygments_lexer": "ipython3",
   "version": "3.8.8"
  }
 },
 "nbformat": 4,
 "nbformat_minor": 4
}

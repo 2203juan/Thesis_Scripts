{
 "cells": [
  {
   "cell_type": "code",
   "execution_count": 1,
   "metadata": {},
   "outputs": [
    {
     "name": "stdout",
     "output_type": "stream",
     "text": [
      "(18, 10)\n",
      "0    11\n",
      "1     7\n",
      "Name: ef_lc_estado_final_estudio, dtype: int64\n"
     ]
    }
   ],
   "source": [
    "import numpy as np\n",
    "import pandas as pd\n",
    "import sklearn as sk\n",
    "import seaborn as sns\n",
    "import matplotlib.pyplot as plt\n",
    "import random\n",
    "import warnings\n",
    "warnings.filterwarnings(\"ignore\")\n",
    "from sklearn.preprocessing import MinMaxScaler\n",
    "\n",
    "\n",
    "file_name = \"../preprocesado.xlsx\"\n",
    "original = pd.read_excel(\"../preprocesado.xlsx\")\n",
    "df = pd.read_excel(file_name)\n",
    "print(df.shape)\n",
    "print(df[\"ef_lc_estado_final_estudio\"].value_counts())"
   ]
  },
  {
   "cell_type": "code",
   "execution_count": 2,
   "metadata": {},
   "outputs": [],
   "source": [
    "from sklearn import mixture\n",
    "k = 3\n",
    "X = df.loc[:, df.columns != 'ef_lc_estado_final_estudio']\n",
    "y = df.ef_lc_estado_final_estudio\n",
    "\n",
    "model = mixture.GaussianMixture(n_components=2, covariance_type='full',random_state = 42).fit(X)\n",
    "ll = model.sample(30)\n",
    "X_res, y_res = ll"
   ]
  },
  {
   "cell_type": "code",
   "execution_count": 3,
   "metadata": {},
   "outputs": [],
   "source": [
    "dataBal = pd.concat([pd.DataFrame(X_res), pd.DataFrame(y_res)], axis=1)\n",
    "dataBal.columns = df.columns"
   ]
  },
  {
   "cell_type": "code",
   "execution_count": 4,
   "metadata": {},
   "outputs": [
    {
     "data": {
      "text/plain": [
       "0    16\n",
       "1    14\n",
       "Name: ef_lc_estado_final_estudio, dtype: int64"
      ]
     },
     "execution_count": 4,
     "metadata": {},
     "output_type": "execute_result"
    }
   ],
   "source": [
    "dataBal[\"ef_lc_estado_final_estudio\"].value_counts()"
   ]
  },
  {
   "cell_type": "code",
   "execution_count": 5,
   "metadata": {},
   "outputs": [
    {
     "name": "stdout",
     "output_type": "stream",
     "text": [
      "(18, 10)\n",
      "(30, 10)\n"
     ]
    }
   ],
   "source": [
    "print(original.shape)\n",
    "print(dataBal.shape)"
   ]
  },
  {
   "cell_type": "code",
   "execution_count": 6,
   "metadata": {},
   "outputs": [],
   "source": [
    "new_samples = list()\n",
    "for index, row in dataBal.iterrows():\n",
    "    row = list(row)\n",
    "    band = True\n",
    "    for index2,row2 in original.iterrows():\n",
    "        row2 = list(row2)\n",
    "        if row == row2:\n",
    "            band = False\n",
    "            break\n",
    "    if band:\n",
    "        new_samples.append(row)"
   ]
  },
  {
   "cell_type": "code",
   "execution_count": 7,
   "metadata": {},
   "outputs": [
    {
     "name": "stdout",
     "output_type": "stream",
     "text": [
      "0.0    16\n",
      "1.0    14\n",
      "Name: ef_lc_estado_final_estudio, dtype: int64\n"
     ]
    }
   ],
   "source": [
    "fake = pd.DataFrame(new_samples,columns =  dataBal.columns)\n",
    "print(fake[\"ef_lc_estado_final_estudio\"].value_counts())"
   ]
  },
  {
   "cell_type": "code",
   "execution_count": 8,
   "metadata": {},
   "outputs": [],
   "source": [
    "fake.to_excel(\"fake_gmm.xlsx\", index = False)"
   ]
  }
 ],
 "metadata": {
  "kernelspec": {
   "display_name": "Python 3",
   "language": "python",
   "name": "python3"
  },
  "language_info": {
   "codemirror_mode": {
    "name": "ipython",
    "version": 3
   },
   "file_extension": ".py",
   "mimetype": "text/x-python",
   "name": "python",
   "nbconvert_exporter": "python",
   "pygments_lexer": "ipython3",
   "version": "3.7.6"
  }
 },
 "nbformat": 4,
 "nbformat_minor": 4
}

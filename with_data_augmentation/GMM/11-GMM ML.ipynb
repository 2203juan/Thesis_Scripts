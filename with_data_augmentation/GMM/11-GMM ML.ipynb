{
 "cells": [
  {
   "cell_type": "code",
   "execution_count": 1,
   "metadata": {},
   "outputs": [],
   "source": [
    "import numpy as np\n",
    "import pandas as pd\n",
    "import sklearn as sk\n",
    "import seaborn as sns\n",
    "import matplotlib.pyplot as plt\n",
    "import random\n",
    "from sklearn.preprocessing import MinMaxScaler\n",
    "\n",
    "#fake_name = \"fake_smote.xlsx\"\n",
    "fake_name = \"fake_gmm.xlsx\"\n",
    "fake = pd.read_excel(fake_name)\n",
    "original = pd.read_excel(\"../preprocesado.xlsx\")"
   ]
  },
  {
   "cell_type": "code",
   "execution_count": 2,
   "metadata": {},
   "outputs": [],
   "source": [
    "#for col in original.columns:\n",
    "#    if col!=\"EB_LC_TTO_MCTO_GLUCANTIME_DOSIS\":\n",
    "#        sns.catplot(x=col, y=\"EB_LC_TTO_MCTO_GLUCANTIME_DOSIS\", jitter=False, data=original)\n",
    "#        sns.catplot(x=col, y=\"EB_LC_TTO_MCTO_GLUCANTIME_DOSIS\", jitter=False, data=fake)"
   ]
  },
  {
   "cell_type": "code",
   "execution_count": 3,
   "metadata": {},
   "outputs": [
    {
     "data": {
      "text/plain": [
       "(30, 10)"
      ]
     },
     "execution_count": 3,
     "metadata": {},
     "output_type": "execute_result"
    }
   ],
   "source": [
    "fake.shape"
   ]
  },
  {
   "cell_type": "code",
   "execution_count": 4,
   "metadata": {},
   "outputs": [
    {
     "data": {
      "text/html": [
       "<div>\n",
       "<style scoped>\n",
       "    .dataframe tbody tr th:only-of-type {\n",
       "        vertical-align: middle;\n",
       "    }\n",
       "\n",
       "    .dataframe tbody tr th {\n",
       "        vertical-align: top;\n",
       "    }\n",
       "\n",
       "    .dataframe thead th {\n",
       "        text-align: right;\n",
       "    }\n",
       "</style>\n",
       "<table border=\"1\" class=\"dataframe\">\n",
       "  <thead>\n",
       "    <tr style=\"text-align: right;\">\n",
       "      <th></th>\n",
       "      <th>eb_lc_sexo</th>\n",
       "      <th>eb_lc_etnia</th>\n",
       "      <th>edad</th>\n",
       "      <th>eb_lc_dpto_infeccion</th>\n",
       "      <th>eb_lc_estatura</th>\n",
       "      <th>eb_lc_tiempo_evolucion</th>\n",
       "      <th>eb_lc_num_lc_activas</th>\n",
       "      <th>eb_lc_ulcera_area_1</th>\n",
       "      <th>eb_lc_tto_mcto_glucan_dosis</th>\n",
       "      <th>ef_lc_estado_final_estudio</th>\n",
       "    </tr>\n",
       "  </thead>\n",
       "  <tbody>\n",
       "    <tr>\n",
       "      <th>count</th>\n",
       "      <td>18.000000</td>\n",
       "      <td>18.000000</td>\n",
       "      <td>18.000000</td>\n",
       "      <td>18.000000</td>\n",
       "      <td>18.000000</td>\n",
       "      <td>18.000000</td>\n",
       "      <td>18.000000</td>\n",
       "      <td>18.000000</td>\n",
       "      <td>18.000000</td>\n",
       "      <td>18.000000</td>\n",
       "    </tr>\n",
       "    <tr>\n",
       "      <th>mean</th>\n",
       "      <td>0.277778</td>\n",
       "      <td>0.388889</td>\n",
       "      <td>0.343434</td>\n",
       "      <td>0.194444</td>\n",
       "      <td>0.473064</td>\n",
       "      <td>0.277778</td>\n",
       "      <td>0.246032</td>\n",
       "      <td>0.121634</td>\n",
       "      <td>0.503968</td>\n",
       "      <td>0.388889</td>\n",
       "    </tr>\n",
       "    <tr>\n",
       "      <th>std</th>\n",
       "      <td>0.460889</td>\n",
       "      <td>0.471405</td>\n",
       "      <td>0.256709</td>\n",
       "      <td>0.388772</td>\n",
       "      <td>0.293824</td>\n",
       "      <td>0.309959</td>\n",
       "      <td>0.301280</td>\n",
       "      <td>0.257732</td>\n",
       "      <td>0.370322</td>\n",
       "      <td>0.501631</td>\n",
       "    </tr>\n",
       "    <tr>\n",
       "      <th>min</th>\n",
       "      <td>0.000000</td>\n",
       "      <td>0.000000</td>\n",
       "      <td>0.000000</td>\n",
       "      <td>0.000000</td>\n",
       "      <td>0.000000</td>\n",
       "      <td>0.000000</td>\n",
       "      <td>0.000000</td>\n",
       "      <td>0.000000</td>\n",
       "      <td>0.000000</td>\n",
       "      <td>0.000000</td>\n",
       "    </tr>\n",
       "    <tr>\n",
       "      <th>25%</th>\n",
       "      <td>0.000000</td>\n",
       "      <td>0.000000</td>\n",
       "      <td>0.143939</td>\n",
       "      <td>0.000000</td>\n",
       "      <td>0.250000</td>\n",
       "      <td>0.065789</td>\n",
       "      <td>0.000000</td>\n",
       "      <td>0.006136</td>\n",
       "      <td>0.142857</td>\n",
       "      <td>0.000000</td>\n",
       "    </tr>\n",
       "    <tr>\n",
       "      <th>50%</th>\n",
       "      <td>0.000000</td>\n",
       "      <td>0.000000</td>\n",
       "      <td>0.303030</td>\n",
       "      <td>0.000000</td>\n",
       "      <td>0.439394</td>\n",
       "      <td>0.105263</td>\n",
       "      <td>0.214286</td>\n",
       "      <td>0.022930</td>\n",
       "      <td>0.464286</td>\n",
       "      <td>0.000000</td>\n",
       "    </tr>\n",
       "    <tr>\n",
       "      <th>75%</th>\n",
       "      <td>0.750000</td>\n",
       "      <td>1.000000</td>\n",
       "      <td>0.507576</td>\n",
       "      <td>0.000000</td>\n",
       "      <td>0.712121</td>\n",
       "      <td>0.315789</td>\n",
       "      <td>0.285714</td>\n",
       "      <td>0.062153</td>\n",
       "      <td>0.857143</td>\n",
       "      <td>1.000000</td>\n",
       "    </tr>\n",
       "    <tr>\n",
       "      <th>max</th>\n",
       "      <td>1.000000</td>\n",
       "      <td>1.000000</td>\n",
       "      <td>1.000000</td>\n",
       "      <td>1.000000</td>\n",
       "      <td>1.000000</td>\n",
       "      <td>1.000000</td>\n",
       "      <td>1.000000</td>\n",
       "      <td>1.000000</td>\n",
       "      <td>1.000000</td>\n",
       "      <td>1.000000</td>\n",
       "    </tr>\n",
       "  </tbody>\n",
       "</table>\n",
       "</div>"
      ],
      "text/plain": [
       "       eb_lc_sexo  eb_lc_etnia       edad  eb_lc_dpto_infeccion  \\\n",
       "count   18.000000    18.000000  18.000000             18.000000   \n",
       "mean     0.277778     0.388889   0.343434              0.194444   \n",
       "std      0.460889     0.471405   0.256709              0.388772   \n",
       "min      0.000000     0.000000   0.000000              0.000000   \n",
       "25%      0.000000     0.000000   0.143939              0.000000   \n",
       "50%      0.000000     0.000000   0.303030              0.000000   \n",
       "75%      0.750000     1.000000   0.507576              0.000000   \n",
       "max      1.000000     1.000000   1.000000              1.000000   \n",
       "\n",
       "       eb_lc_estatura  eb_lc_tiempo_evolucion  eb_lc_num_lc_activas  \\\n",
       "count       18.000000               18.000000             18.000000   \n",
       "mean         0.473064                0.277778              0.246032   \n",
       "std          0.293824                0.309959              0.301280   \n",
       "min          0.000000                0.000000              0.000000   \n",
       "25%          0.250000                0.065789              0.000000   \n",
       "50%          0.439394                0.105263              0.214286   \n",
       "75%          0.712121                0.315789              0.285714   \n",
       "max          1.000000                1.000000              1.000000   \n",
       "\n",
       "       eb_lc_ulcera_area_1  eb_lc_tto_mcto_glucan_dosis  \\\n",
       "count            18.000000                    18.000000   \n",
       "mean              0.121634                     0.503968   \n",
       "std               0.257732                     0.370322   \n",
       "min               0.000000                     0.000000   \n",
       "25%               0.006136                     0.142857   \n",
       "50%               0.022930                     0.464286   \n",
       "75%               0.062153                     0.857143   \n",
       "max               1.000000                     1.000000   \n",
       "\n",
       "       ef_lc_estado_final_estudio  \n",
       "count                   18.000000  \n",
       "mean                     0.388889  \n",
       "std                      0.501631  \n",
       "min                      0.000000  \n",
       "25%                      0.000000  \n",
       "50%                      0.000000  \n",
       "75%                      1.000000  \n",
       "max                      1.000000  "
      ]
     },
     "execution_count": 4,
     "metadata": {},
     "output_type": "execute_result"
    }
   ],
   "source": [
    "original.describe()"
   ]
  },
  {
   "cell_type": "code",
   "execution_count": 5,
   "metadata": {},
   "outputs": [
    {
     "data": {
      "text/html": [
       "<div>\n",
       "<style scoped>\n",
       "    .dataframe tbody tr th:only-of-type {\n",
       "        vertical-align: middle;\n",
       "    }\n",
       "\n",
       "    .dataframe tbody tr th {\n",
       "        vertical-align: top;\n",
       "    }\n",
       "\n",
       "    .dataframe thead th {\n",
       "        text-align: right;\n",
       "    }\n",
       "</style>\n",
       "<table border=\"1\" class=\"dataframe\">\n",
       "  <thead>\n",
       "    <tr style=\"text-align: right;\">\n",
       "      <th></th>\n",
       "      <th>eb_lc_sexo</th>\n",
       "      <th>eb_lc_etnia</th>\n",
       "      <th>edad</th>\n",
       "      <th>eb_lc_dpto_infeccion</th>\n",
       "      <th>eb_lc_estatura</th>\n",
       "      <th>eb_lc_tiempo_evolucion</th>\n",
       "      <th>eb_lc_num_lc_activas</th>\n",
       "      <th>eb_lc_ulcera_area_1</th>\n",
       "      <th>eb_lc_tto_mcto_glucan_dosis</th>\n",
       "      <th>ef_lc_estado_final_estudio</th>\n",
       "    </tr>\n",
       "  </thead>\n",
       "  <tbody>\n",
       "    <tr>\n",
       "      <th>count</th>\n",
       "      <td>30.000000</td>\n",
       "      <td>30.000000</td>\n",
       "      <td>30.000000</td>\n",
       "      <td>30.000000</td>\n",
       "      <td>30.000000</td>\n",
       "      <td>30.000000</td>\n",
       "      <td>30.000000</td>\n",
       "      <td>30.000000</td>\n",
       "      <td>30.000000</td>\n",
       "      <td>30.000000</td>\n",
       "    </tr>\n",
       "    <tr>\n",
       "      <th>mean</th>\n",
       "      <td>0.215540</td>\n",
       "      <td>0.377208</td>\n",
       "      <td>0.319216</td>\n",
       "      <td>0.213810</td>\n",
       "      <td>0.436864</td>\n",
       "      <td>0.262205</td>\n",
       "      <td>0.291912</td>\n",
       "      <td>0.145565</td>\n",
       "      <td>0.496740</td>\n",
       "      <td>0.466667</td>\n",
       "    </tr>\n",
       "    <tr>\n",
       "      <th>std</th>\n",
       "      <td>0.389482</td>\n",
       "      <td>0.455345</td>\n",
       "      <td>0.227320</td>\n",
       "      <td>0.488234</td>\n",
       "      <td>0.256457</td>\n",
       "      <td>0.319160</td>\n",
       "      <td>0.328176</td>\n",
       "      <td>0.293873</td>\n",
       "      <td>0.349595</td>\n",
       "      <td>0.507416</td>\n",
       "    </tr>\n",
       "    <tr>\n",
       "      <th>min</th>\n",
       "      <td>-0.520196</td>\n",
       "      <td>-0.286506</td>\n",
       "      <td>-0.143171</td>\n",
       "      <td>-0.691688</td>\n",
       "      <td>-0.061397</td>\n",
       "      <td>-0.384260</td>\n",
       "      <td>-0.122348</td>\n",
       "      <td>-0.642441</td>\n",
       "      <td>-0.166742</td>\n",
       "      <td>0.000000</td>\n",
       "    </tr>\n",
       "    <tr>\n",
       "      <th>25%</th>\n",
       "      <td>-0.083640</td>\n",
       "      <td>-0.023115</td>\n",
       "      <td>0.189505</td>\n",
       "      <td>-0.027232</td>\n",
       "      <td>0.245424</td>\n",
       "      <td>0.094796</td>\n",
       "      <td>0.041638</td>\n",
       "      <td>0.008293</td>\n",
       "      <td>0.230558</td>\n",
       "      <td>0.000000</td>\n",
       "    </tr>\n",
       "    <tr>\n",
       "      <th>50%</th>\n",
       "      <td>0.204374</td>\n",
       "      <td>0.385070</td>\n",
       "      <td>0.332443</td>\n",
       "      <td>0.057907</td>\n",
       "      <td>0.422112</td>\n",
       "      <td>0.239177</td>\n",
       "      <td>0.162849</td>\n",
       "      <td>0.049448</td>\n",
       "      <td>0.450313</td>\n",
       "      <td>0.000000</td>\n",
       "    </tr>\n",
       "    <tr>\n",
       "      <th>75%</th>\n",
       "      <td>0.396085</td>\n",
       "      <td>0.774622</td>\n",
       "      <td>0.414414</td>\n",
       "      <td>0.286703</td>\n",
       "      <td>0.590047</td>\n",
       "      <td>0.335812</td>\n",
       "      <td>0.525344</td>\n",
       "      <td>0.311809</td>\n",
       "      <td>0.797119</td>\n",
       "      <td>1.000000</td>\n",
       "    </tr>\n",
       "    <tr>\n",
       "      <th>max</th>\n",
       "      <td>1.080526</td>\n",
       "      <td>1.293627</td>\n",
       "      <td>0.967990</td>\n",
       "      <td>1.510139</td>\n",
       "      <td>1.032314</td>\n",
       "      <td>1.187537</td>\n",
       "      <td>1.033887</td>\n",
       "      <td>0.912735</td>\n",
       "      <td>1.173718</td>\n",
       "      <td>1.000000</td>\n",
       "    </tr>\n",
       "  </tbody>\n",
       "</table>\n",
       "</div>"
      ],
      "text/plain": [
       "       eb_lc_sexo  eb_lc_etnia       edad  eb_lc_dpto_infeccion  \\\n",
       "count   30.000000    30.000000  30.000000             30.000000   \n",
       "mean     0.215540     0.377208   0.319216              0.213810   \n",
       "std      0.389482     0.455345   0.227320              0.488234   \n",
       "min     -0.520196    -0.286506  -0.143171             -0.691688   \n",
       "25%     -0.083640    -0.023115   0.189505             -0.027232   \n",
       "50%      0.204374     0.385070   0.332443              0.057907   \n",
       "75%      0.396085     0.774622   0.414414              0.286703   \n",
       "max      1.080526     1.293627   0.967990              1.510139   \n",
       "\n",
       "       eb_lc_estatura  eb_lc_tiempo_evolucion  eb_lc_num_lc_activas  \\\n",
       "count       30.000000               30.000000             30.000000   \n",
       "mean         0.436864                0.262205              0.291912   \n",
       "std          0.256457                0.319160              0.328176   \n",
       "min         -0.061397               -0.384260             -0.122348   \n",
       "25%          0.245424                0.094796              0.041638   \n",
       "50%          0.422112                0.239177              0.162849   \n",
       "75%          0.590047                0.335812              0.525344   \n",
       "max          1.032314                1.187537              1.033887   \n",
       "\n",
       "       eb_lc_ulcera_area_1  eb_lc_tto_mcto_glucan_dosis  \\\n",
       "count            30.000000                    30.000000   \n",
       "mean              0.145565                     0.496740   \n",
       "std               0.293873                     0.349595   \n",
       "min              -0.642441                    -0.166742   \n",
       "25%               0.008293                     0.230558   \n",
       "50%               0.049448                     0.450313   \n",
       "75%               0.311809                     0.797119   \n",
       "max               0.912735                     1.173718   \n",
       "\n",
       "       ef_lc_estado_final_estudio  \n",
       "count                   30.000000  \n",
       "mean                     0.466667  \n",
       "std                      0.507416  \n",
       "min                      0.000000  \n",
       "25%                      0.000000  \n",
       "50%                      0.000000  \n",
       "75%                      1.000000  \n",
       "max                      1.000000  "
      ]
     },
     "execution_count": 5,
     "metadata": {},
     "output_type": "execute_result"
    }
   ],
   "source": [
    "fake.describe()"
   ]
  },
  {
   "cell_type": "code",
   "execution_count": 6,
   "metadata": {},
   "outputs": [
    {
     "data": {
      "text/plain": [
       "0    16\n",
       "1    14\n",
       "Name: ef_lc_estado_final_estudio, dtype: int64"
      ]
     },
     "execution_count": 6,
     "metadata": {},
     "output_type": "execute_result"
    }
   ],
   "source": [
    "fake[\"ef_lc_estado_final_estudio\"].value_counts()"
   ]
  },
  {
   "cell_type": "code",
   "execution_count": 7,
   "metadata": {},
   "outputs": [],
   "source": [
    "y_train = fake[\"ef_lc_estado_final_estudio\"]\n",
    "X_train = fake.drop('ef_lc_estado_final_estudio', 1)\n",
    "\n",
    "y_test = original[\"ef_lc_estado_final_estudio\"]\n",
    "X_test = original.drop('ef_lc_estado_final_estudio', 1)"
   ]
  },
  {
   "cell_type": "code",
   "execution_count": 8,
   "metadata": {},
   "outputs": [],
   "source": [
    "# Librerías para los modelos de Machine Learning\n",
    "\n",
    "from sklearn.linear_model import LogisticRegression\n",
    "from sklearn.neighbors import KNeighborsClassifier\n",
    "from sklearn.ensemble import RandomForestClassifier\n",
    "from sklearn.neural_network import MLPClassifier\n",
    "from sklearn.svm import SVC\n",
    "\n",
    "# Librerías para la evaluación de los modelos de Machine Learning\n",
    "from sklearn import metrics\n",
    "from sklearn.metrics import confusion_matrix \n",
    "from sklearn.metrics import precision_score\n",
    "from sklearn.metrics import recall_score\n",
    "from sklearn.metrics import f1_score\n",
    "from sklearn.metrics import roc_curve\n",
    "from sklearn.metrics import roc_auc_score"
   ]
  },
  {
   "cell_type": "code",
   "execution_count": 9,
   "metadata": {},
   "outputs": [],
   "source": [
    "metricas = list()\n",
    "def build_model(model, X_train, y_train, X_test, y_test):\n",
    "    clf = model\n",
    "    clf.fit(X_train, y_train)\n",
    "    clf_pred = clf.predict(X_test)\n",
    "    \n",
    "    # Evaluación\n",
    "    tmp = list()\n",
    "    precision = precision_score(y_test,clf_pred)\n",
    "    recall = recall_score(y_test,clf_pred)\n",
    "    fscore = f1_score(y_test,clf_pred)\n",
    "    \n",
    "    tmp.append(str(type(model).__name__))\n",
    "    tmp.append(precision)\n",
    "    tmp.append(recall)\n",
    "    tmp.append(fscore)\n",
    "    metricas.append(tmp)\n",
    "    print(\"Precision: \",precision)\n",
    "    print(\"Recall:    \",recall)\n",
    "    print(\"F1score:   \",fscore)\n",
    "    \n",
    "    return clf_pred"
   ]
  },
  {
   "cell_type": "markdown",
   "metadata": {},
   "source": [
    "### Clasificador por Regresión Logística"
   ]
  },
  {
   "cell_type": "code",
   "execution_count": 10,
   "metadata": {},
   "outputs": [
    {
     "name": "stdout",
     "output_type": "stream",
     "text": [
      "Precision:  0.5\n",
      "Recall:     0.5714285714285714\n",
      "F1score:    0.5333333333333333\n"
     ]
    }
   ],
   "source": [
    "log_reg = LogisticRegression(C = 5, fit_intercept = True, max_iter = 50, penalty = 'l1',\n",
    "                             solver = 'liblinear', tol = 0.001)\n",
    "log_reg_pred = build_model(log_reg, X_train, y_train, X_test, y_test)"
   ]
  },
  {
   "cell_type": "markdown",
   "metadata": {},
   "source": [
    "### Clasificador K-vecinos más cercanos (k=5)"
   ]
  },
  {
   "cell_type": "code",
   "execution_count": 11,
   "metadata": {},
   "outputs": [
    {
     "name": "stdout",
     "output_type": "stream",
     "text": [
      "Precision:  0.5\n",
      "Recall:     0.5714285714285714\n",
      "F1score:    0.5333333333333333\n"
     ]
    }
   ],
   "source": [
    "knn = KNeighborsClassifier(algorithm = 'ball_tree', n_neighbors = 2, weights = 'distance')\n",
    "knn_pred = build_model(knn, X_train, y_train, X_test, y_test)"
   ]
  },
  {
   "cell_type": "markdown",
   "metadata": {},
   "source": [
    "### Clasificador Random Forest"
   ]
  },
  {
   "cell_type": "code",
   "execution_count": 12,
   "metadata": {},
   "outputs": [
    {
     "name": "stdout",
     "output_type": "stream",
     "text": [
      "Precision:  0.4444444444444444\n",
      "Recall:     0.5714285714285714\n",
      "F1score:    0.5\n"
     ]
    }
   ],
   "source": [
    "rf = RandomForestClassifier(criterion = 'gini', max_depth = 31, max_features = 'sqrt', \n",
    "                            max_leaf_nodes = 11, min_samples_leaf = 3, \n",
    "                            min_samples_split = 6)\n",
    "rf_pred = build_model(rf, X_train, y_train, X_test, y_test)"
   ]
  },
  {
   "cell_type": "markdown",
   "metadata": {},
   "source": [
    "### SVM"
   ]
  },
  {
   "cell_type": "code",
   "execution_count": 13,
   "metadata": {},
   "outputs": [
    {
     "name": "stdout",
     "output_type": "stream",
     "text": [
      "Precision:  0.42857142857142855\n",
      "Recall:     0.42857142857142855\n",
      "F1score:    0.42857142857142855\n"
     ]
    }
   ],
   "source": [
    "svm = SVC(C = 10, gamma = 0.001, kernel = 'linear')\n",
    "svm_pred = build_model(svm, X_train, y_train, X_test, y_test)"
   ]
  },
  {
   "cell_type": "markdown",
   "metadata": {},
   "source": [
    "### MLP"
   ]
  },
  {
   "cell_type": "code",
   "execution_count": 14,
   "metadata": {},
   "outputs": [
    {
     "name": "stdout",
     "output_type": "stream",
     "text": [
      "Precision:  0.42857142857142855\n",
      "Recall:     0.42857142857142855\n",
      "F1score:    0.42857142857142855\n"
     ]
    }
   ],
   "source": [
    "mlp = MLPClassifier(activation = 'tanh', alpha = 0.0001, \n",
    "                     hidden_layer_sizes = (9, 9, 9), \n",
    "                     learning_rate = 'constant', solver = 'adam',max_iter = 500)\n",
    "mlp_pred = build_model(mlp, X_train, y_train, X_test, y_test)"
   ]
  },
  {
   "cell_type": "code",
   "execution_count": 15,
   "metadata": {},
   "outputs": [],
   "source": [
    "result_table = pd.DataFrame(columns = ['Modelo', 'Precision','Recall','F1Score'])\n",
    "for i in range(len(metricas)):\n",
    "    result_table = result_table.append({'Modelo':metricas[i][0],\n",
    "                                        'Precision':metricas[i][1], \n",
    "                                        'Recall':metricas[i][2], \n",
    "                                        'F1Score':metricas[i][3]}, ignore_index = True)\n",
    "result_table.to_excel(\"results/fake_gmm.xlsx\", index = False)"
   ]
  }
 ],
 "metadata": {
  "kernelspec": {
   "display_name": "Python 3",
   "language": "python",
   "name": "python3"
  },
  "language_info": {
   "codemirror_mode": {
    "name": "ipython",
    "version": 3
   },
   "file_extension": ".py",
   "mimetype": "text/x-python",
   "name": "python",
   "nbconvert_exporter": "python",
   "pygments_lexer": "ipython3",
   "version": "3.7.6"
  }
 },
 "nbformat": 4,
 "nbformat_minor": 4
}

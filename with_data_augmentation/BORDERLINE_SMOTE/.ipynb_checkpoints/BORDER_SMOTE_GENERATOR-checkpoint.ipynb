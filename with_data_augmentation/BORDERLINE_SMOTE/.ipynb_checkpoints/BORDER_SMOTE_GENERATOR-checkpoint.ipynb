{
 "cells": [
  {
   "cell_type": "markdown",
   "metadata": {},
   "source": [
    "# Script: BORDER_SMOTE_GENERATOR\n",
    "<h4><span style=\"color:blue\">Juan José Hoyos Urcué</span></h4>"
   ]
  },
  {
   "cell_type": "markdown",
   "metadata": {},
   "source": [
    "### Dataset and Python libraries Upload"
   ]
  },
  {
   "cell_type": "code",
   "execution_count": 1,
   "metadata": {},
   "outputs": [
    {
     "name": "stdout",
     "output_type": "stream",
     "text": [
      "(18, 10)\n",
      "0    11\n",
      "1     7\n",
      "Name: ef_lc_estado_final_estudio, dtype: int64\n"
     ]
    }
   ],
   "source": [
    "import numpy as np\n",
    "import pandas as pd\n",
    "import sklearn as sk\n",
    "import seaborn as sns\n",
    "import matplotlib.pyplot as plt\n",
    "import random\n",
    "import warnings\n",
    "warnings.filterwarnings(\"ignore\")\n",
    "from sklearn.preprocessing import MinMaxScaler\n",
    "from imblearn.over_sampling import BorderlineSMOTE### Dataset and Python libraries Upload\n",
    "\n",
    "file_name = \"../../without_data_augmentation/preprocesado.xlsx\"\n",
    "\n",
    "df = pd.read_excel(file_name) # dataframe to process\n",
    "original = pd.read_excel(file_name) # keep original dataset to avoid mixed data"
   ]
  },
  {
   "cell_type": "markdown",
   "metadata": {},
   "source": [
    "### Initial Target variable Distribution"
   ]
  },
  {
   "cell_type": "code",
   "execution_count": 2,
   "metadata": {},
   "outputs": [
    {
     "name": "stdout",
     "output_type": "stream",
     "text": [
      "0    11\n",
      "1     7\n",
      "Name: cure_or_fail, dtype: int64\n"
     ]
    }
   ],
   "source": [
    "print(df[\"cure_or_fail\"].value_counts())\n",
    "# 0 cure\n",
    "# 1 fail"
   ]
  },
  {
   "cell_type": "markdown",
   "metadata": {},
   "source": [
    "### BORDER SMOTE Data Augmentation"
   ]
  },
  {
   "cell_type": "code",
   "execution_count": 2,
   "metadata": {},
   "outputs": [
    {
     "name": "stderr",
     "output_type": "stream",
     "text": [
      "Using TensorFlow backend.\n"
     ]
    }
   ],
   "source": [
    "\n",
    "k = 3\n",
    "\n",
    "X = df.loc[:, df.columns != 'ef_lc_estado_final_estudio']\n",
    "y = df.ef_lc_estado_final_estudio\n",
    "\n",
    "### Initial Target variable Distributionprint(df[\"cure_or_fail\"].value_counts())\n",
    "# 0 cure\n",
    "# 1 fail### SMOTE Data Augmentationsm = BorderlineSMOTE(sampling_strategy = {1: 22,0: 26}, k_neighbors = k, random_state = 42)\n",
    "X_res, y_res = sm.fit_resample(X, y)"
   ]
  },
  {
   "cell_type": "code",
   "execution_count": 3,
   "metadata": {},
   "outputs": [],
   "source": [
    "dataBal = pd.concat([pd.DataFrame(X_res), pd.DataFrame(y_res)], axis=1)"
   ]
  },
  {
   "cell_type": "code",
   "execution_count": 4,
   "metadata": {},
   "outputs": [
    {
     "data": {
      "text/plain": [
       "0    26\n",
       "1    22\n",
       "Name: ef_lc_estado_final_estudio, dtype: int64"
      ]
     },
     "execution_count": 4,
     "metadata": {},
     "output_type": "execute_result"
    }
   ],
   "source": [
    "dataBal[\"ef_lc_estado_final_estudio\"].value_counts()"
   ]
  },
  {
   "cell_type": "code",
   "execution_count": 5,
   "metadata": {},
   "outputs": [
    {
     "name": "stdout",
     "output_type": "stream",
     "text": [
      "(18, 10)\n",
      "(48, 10)\n"
     ]
    }
   ],
   "source": [
    "print(original.shape)\n",
    "print(dataBal.shape)"
   ]
  },
  {
   "cell_type": "code",
   "execution_count": 6,
   "metadata": {},
   "outputs": [],
   "source": [
    "new_samples = list()\n",
    "for index, row in dataBal.iterrows():\n",
    "    row = list(row)\n",
    "    band = True\n",
    "    for index2,row2 in original.iterrows():\n",
    "        row2 = list(row2)\n",
    "        if row == row2:\n",
    "            band = False\n",
    "            break\n",
    "    if band:\n",
    "        new_samples.append(row)"
   ]
  },
  {
   "cell_type": "code",
   "execution_count": 7,
   "metadata": {},
   "outputs": [
    {
     "name": "stdout",
     "output_type": "stream",
     "text": [
      "1.0    15\n",
      "0.0    15\n",
      "Name: ef_lc_estado_final_estudio, dtype: int64\n"
     ]
    }
   ],
   "source": [
    "fake = pd.DataFrame(new_samples,columns =  dataBal.columns)\n",
    "print(fake[\"ef_lc_estado_final_estudio\"].value_counts())"
   ]
  },
  {
   "cell_type": "code",
   "execution_count": 8,
   "metadata": {},
   "outputs": [],
   "source": [
    "fake.to_excel(\"fake_border_smote.xlsx\", index = False)"
   ]
  }
 ],
 "metadata": {
  "kernelspec": {
   "display_name": "Python 3",
   "language": "python",
   "name": "python3"
  },
  "language_info": {
   "codemirror_mode": {
    "name": "ipython",
    "version": 3
   },
   "file_extension": ".py",
   "mimetype": "text/x-python",
   "name": "python",
   "nbconvert_exporter": "python",
   "pygments_lexer": "ipython3",
   "version": "3.8.8"
  }
 },
 "nbformat": 4,
 "nbformat_minor": 4
}
